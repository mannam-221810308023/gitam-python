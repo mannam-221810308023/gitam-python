{
 "cells": [
  {
   "cell_type": "code",
   "execution_count": 3,
   "metadata": {},
   "outputs": [
    {
     "name": "stdout",
     "output_type": "stream",
     "text": [
      "1 2 3 4 6 12 "
     ]
    }
   ],
   "source": [
    "# find the factors of a given number\n",
    "# 12 -- > 1 2 3 4 6 12\n",
    "def factorsList(n):\n",
    "    for i in range(1,n+1):\n",
    "        if n % i == 0:\n",
    "            print(i,end=\" \")\n",
    "    return\n",
    "factorsList(12)"
   ]
  },
  {
   "cell_type": "code",
   "execution_count": 9,
   "metadata": {},
   "outputs": [
    {
     "data": {
      "text/plain": [
       "False"
      ]
     },
     "execution_count": 9,
     "metadata": {},
     "output_type": "execute_result"
    }
   ],
   "source": [
    "# given number is prime number or not\n",
    "def isprime(n):\n",
    "    flag = True\n",
    "    for i in range(2,n//2+1): \n",
    "        if n % i == 0:\n",
    "            flag = False\n",
    "            return flag\n",
    "    return flag\n",
    "isprime(8)"
   ]
  },
  {
   "cell_type": "code",
   "execution_count": 12,
   "metadata": {},
   "outputs": [
    {
     "data": {
      "text/plain": [
       "8"
      ]
     },
     "execution_count": 12,
     "metadata": {},
     "output_type": "execute_result"
    }
   ],
   "source": [
    "# function to find prime numbers count from 1 to N\n",
    "# 10 --> 4(2,3,5,7)\n",
    "def primecount(n):\n",
    "    cnt = 0\n",
    "    for a in range(2,n+1):\n",
    "        k = 0\n",
    "        for i in range(2,a//2+1):\n",
    "            if a % i == 0:\n",
    "                k = k + 1\n",
    "        if(k<=0):\n",
    "            cnt = cnt + 1\n",
    "    return cnt\n",
    "primecount(20)                \n",
    "            "
   ]
  },
  {
   "cell_type": "code",
   "execution_count": 26,
   "metadata": {},
   "outputs": [
    {
     "name": "stdout",
     "output_type": "stream",
     "text": [
      "yes\n",
      "no\n"
     ]
    }
   ],
   "source": [
    "# individual digit factorial sum is same as original number\n",
    "# example:-\n",
    "# 145 -- yes(5! + 4! + 1! = 145)\n",
    "# 123 -- no(3! + 2! + 1! = 9)\n",
    "def factorial(n):\n",
    "    fact = 1\n",
    "    for i in range (2,n+1):\n",
    "        fact*= i\n",
    "    return fact\n",
    "def digitfacSum(n):\n",
    "    sum = 0\n",
    "    buffer = n\n",
    "    while n != 0:\n",
    "        r = n % 10\n",
    "        sum +=factorial(r)\n",
    "        n = n // 10\n",
    "    if sum == buffer:\n",
    "        return \"yes\"\n",
    "    else:\n",
    "        return \"no\"\n",
    "    return\n",
    "print(digitfacSum(145))\n",
    "print(digitfacSum(123))\n",
    "     "
   ]
  },
  {
   "cell_type": "code",
   "execution_count": 32,
   "metadata": {},
   "outputs": [
    {
     "data": {
      "text/plain": [
       "9"
      ]
     },
     "execution_count": 32,
     "metadata": {},
     "output_type": "execute_result"
    }
   ],
   "source": [
    "# function to return the count of palindrome numbers\n",
    "def ispalindrome(n):\n",
    "    rev = 0\n",
    "    buffer = n\n",
    "    while n!= 0:\n",
    "        r = n % 10\n",
    "        rev = rev * 10 + r\n",
    "        n = n // 10\n",
    "    if rev == buffer:\n",
    "        return True\n",
    "    else:\n",
    "        return False\n",
    "    return\n",
    "def countpalindrome(lb,ub):\n",
    "    cnt = 0\n",
    "    while lb != ub:\n",
    "        # implement \n",
    "        if ispalindrome(lb) == True:\n",
    "            cnt = cnt + 1\n",
    "            lb = lb + 1\n",
    "    return cnt\n",
    "countpalindrome(1,10)\n",
    "        "
   ]
  },
  {
   "cell_type": "code",
   "execution_count": 38,
   "metadata": {},
   "outputs": [
    {
     "name": "stdout",
     "output_type": "stream",
     "text": [
      "6 \n",
      "6 28 496 \n"
     ]
    }
   ],
   "source": [
    "# function to generate the perfect numbers in a given range\n",
    "# perfect Number : Sum of all its factors same as original number\n",
    "# example : 6 == 1 2 3 (1 + 2+ 3)\n",
    "# input : 1 10\n",
    "# output : 6\n",
    "def factorsList(n):\n",
    "    sum = 0\n",
    "    for  i in range(1,n//2+1):\n",
    "        if n % i == 0:\n",
    "            sum = sum + i\n",
    "    return sum\n",
    "def isperfect(n):\n",
    "    if factorsList(n) == n:\n",
    "        return True\n",
    "    return False\n",
    "def generatePerfect(lb,ub):\n",
    "    for x in range(lb,ub+1):\n",
    "        if isperfect(x):\n",
    "             print(x,end=\" \")\n",
    "    print()\n",
    "    return\n",
    "generatePerfect(1,10)\n",
    "generatePerfect(1,1000)"
   ]
  },
  {
   "cell_type": "markdown",
   "metadata": {},
   "source": [
    "# programming in python(strings)\n",
    "\n",
    "* "
   ]
  },
  {
   "cell_type": "code",
   "execution_count": 2,
   "metadata": {},
   "outputs": [
    {
     "name": "stdout",
     "output_type": "stream",
     "text": [
      "p\n",
      "y\n",
      "n\n",
      "n\n"
     ]
    }
   ],
   "source": [
    "s1 = 'python'\n",
    "print(s1[0])\n",
    "print(s1[1])\n",
    "print(s1[5])\n",
    "print(s1[len(s1)-1])"
   ]
  },
  {
   "cell_type": "code",
   "execution_count": 2,
   "metadata": {},
   "outputs": [
    {
     "name": "stdout",
     "output_type": "stream",
     "text": [
      "n\n",
      "o\n",
      "py\n",
      "py\n",
      "hon\n",
      "thon\n"
     ]
    }
   ],
   "source": [
    "s1 = 'python'\n",
    "print(s1[-1])\n",
    "print(s1[-2])\n",
    "print(s1[0:2])\n",
    "print(s1[:2])\n",
    "print(s1[-3:])\n",
    "print(s1[2:])"
   ]
  },
  {
   "cell_type": "code",
   "execution_count": 20,
   "metadata": {},
   "outputs": [
    {
     "name": "stdout",
     "output_type": "stream",
     "text": [
      "ytho\n",
      "h\n",
      "nohtyp\n",
      "no\n",
      "pto\n",
      "ph\n",
      "nohtyp\n"
     ]
    }
   ],
   "source": [
    "s1 = 'python'\n",
    "print(s1[1:-1])\n",
    "print(s1[len(s1)//2])\n",
    "print(s1[-1::-1])\n",
    "print(s1[-1:-3:-1])\n",
    "print(s1[::2])\n",
    "print(s1[::3])\n",
    "print(s1[::-1])"
   ]
  },
  {
   "cell_type": "code",
   "execution_count": 6,
   "metadata": {},
   "outputs": [
    {
     "data": {
      "text/plain": [
       "'gnimmargorp'"
      ]
     },
     "execution_count": 6,
     "metadata": {},
     "output_type": "execute_result"
    }
   ],
   "source": [
    "def reversestring(str):\n",
    "    return str[-1::-1]\n",
    "reversestring(\"programming\")"
   ]
  },
  {
   "cell_type": "code",
   "execution_count": 1,
   "metadata": {},
   "outputs": [
    {
     "name": "stdout",
     "output_type": "stream",
     "text": [
      "False\n",
      "False\n"
     ]
    }
   ],
   "source": [
    "def ispalindrome(str):\n",
    "    if str ==  str[::-1]:\n",
    "        return True\n",
    "    else:\n",
    "        return False\n",
    "    return\n",
    "print(ispalindrome(\"python\"))\n",
    "print(ispalindrome(\"archana\"))"
   ]
  },
  {
   "cell_type": "code",
   "execution_count": 9,
   "metadata": {},
   "outputs": [
    {
     "name": "stdout",
     "output_type": "stream",
     "text": [
      "P T "
     ]
    }
   ],
   "source": [
    "#ASCII :-\n",
    "#A - Z :65 - 90\n",
    "#a - z :97 - 122\n",
    "# 0 - 9: 48 - 57\n",
    "#space : 32\n",
    "def printupper(x):\n",
    "    for i in range(len(x)):\n",
    "        if ord(x[i]) >= 65 and ord(x[i]) <=90:\n",
    "            print(x[i],end =\" \")\n",
    "    return\n",
    "printupper(\"PyThon\")"
   ]
  },
  {
   "cell_type": "code",
   "execution_count": 10,
   "metadata": {},
   "outputs": [
    {
     "data": {
      "text/plain": [
       "97"
      ]
     },
     "execution_count": 10,
     "metadata": {},
     "output_type": "execute_result"
    }
   ],
   "source": [
    "ord('a')"
   ]
  },
  {
   "cell_type": "code",
   "execution_count": 11,
   "metadata": {},
   "outputs": [
    {
     "data": {
      "text/plain": [
       "65"
      ]
     },
     "execution_count": 11,
     "metadata": {},
     "output_type": "execute_result"
    }
   ],
   "source": [
    "ord('A')"
   ]
  },
  {
   "cell_type": "code",
   "execution_count": 34,
   "metadata": {},
   "outputs": [
    {
     "data": {
      "text/plain": [
       "'sameCount'"
      ]
     },
     "execution_count": 34,
     "metadata": {},
     "output_type": "execute_result"
    }
   ],
   "source": [
    "# function to print 'samecount' if the count of\n",
    "# upper and lower case is same\n",
    "# print \"programming\" if not same\n",
    "def findCount(str):\n",
    "    cntUpper = 0\n",
    "    cntLower = 0\n",
    "    for x in range(len(str)):\n",
    "        if ord(str[x]) >= 97 and ord(str[x]) <=122:\n",
    "            cntLower = cntLower + 1\n",
    "            if cntLower == cntLower:\n",
    "                return \"sameCount\"\n",
    "            else:\n",
    "                 return \"programming\"\n",
    "            return\n",
    "findCount('PyTHon')\n",
    "findCount('pyhton')\n"
   ]
  },
  {
   "cell_type": "code",
   "execution_count": 43,
   "metadata": {},
   "outputs": [
    {
     "name": "stdout",
     "output_type": "stream",
     "text": [
      "5 1 8 9 "
     ]
    }
   ],
   "source": [
    "def extractDigits(str):\n",
    "    for x in range(len(str)):\n",
    "        if ord(str[x]) >= 48 and ord(str[x]) <=57:\n",
    "            print(str[x],end=\" \")\n",
    "    return\n",
    "extractDigits(\"a5pplicat1ion89\")        "
   ]
  },
  {
   "cell_type": "code",
   "execution_count": 41,
   "metadata": {},
   "outputs": [
    {
     "data": {
      "text/plain": [
       "8"
      ]
     },
     "execution_count": 41,
     "metadata": {},
     "output_type": "execute_result"
    }
   ],
   "source": [
    "def sumofdigits(str):\n",
    "    sum = 0\n",
    "    for x in range(len(str)):\n",
    "        if ord(str[x]) >= 48 and ord(str[x]) <= 57:\n",
    "            sum = sum + (ord(str[x])-48)\n",
    "    return sum\n",
    "sumofdigits('appl3ications23')        "
   ]
  },
  {
   "cell_type": "code",
   "execution_count": 49,
   "metadata": {},
   "outputs": [
    {
     "name": "stdout",
     "output_type": "stream",
     "text": [
      "M A D E "
     ]
    }
   ],
   "source": [
    "#function to print the specific word in upper case \n",
    "# example:\n",
    "# input : python made easy\n",
    "# outout : made\n",
    "# input : learn python programming \n",
    "# outout : PYTHON\n",
    "def  worduppercase(s):\n",
    "        spacecnt = 0\n",
    "        for x in range(len(s)):\n",
    "            if ord(s[x]) == 32:\n",
    "                spacecnt += 1\n",
    "            if spacecnt == 1:\n",
    "                if ord(s[x]) >= 65 and ord(s[x]) <= 90:\n",
    "                    print(s[x],end= \" \")\n",
    "                elif ord(s[x])>= 97 and ord(s[x]) <=122:\n",
    "                    print(chr(ord(s[x])-32),end=\" \")\n",
    "                if spacecnt == 2:\n",
    "                    break\n",
    "        return\n",
    "worduppercase('Python Made Easy')    #MADE\n",
    "    "
   ]
  },
  {
   "cell_type": "code",
   "execution_count": null,
   "metadata": {},
   "outputs": [],
   "source": []
  }
 ],
 "metadata": {
  "kernelspec": {
   "display_name": "Python 3",
   "language": "python",
   "name": "python3"
  },
  "language_info": {
   "codemirror_mode": {
    "name": "ipython",
    "version": 3
   },
   "file_extension": ".py",
   "mimetype": "text/x-python",
   "name": "python",
   "nbconvert_exporter": "python",
   "pygments_lexer": "ipython3",
   "version": "3.7.3"
  }
 },
 "nbformat": 4,
 "nbformat_minor": 2
}

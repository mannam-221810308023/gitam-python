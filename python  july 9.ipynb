{
 "cells": [
  {
   "cell_type": "markdown",
   "metadata": {},
   "source": [
    "# day Objectives \n",
    "- python data structures\n",
    "* lists\n",
    "* tuples\n",
    "* dictionaries\n",
    "* basic program sets on data structures\n",
    "* advanced problem set\n",
    "* contact application(dictionary object)\n",
    "\n",
    " #data structures:\n",
    "  * to store serach and sort the data"
   ]
  },
  {
   "cell_type": "markdown",
   "metadata": {},
   "source": [
    "# python Data Structures\n",
    "\n",
    "### lists\n",
    "- it is one of common data structures supports by python, the lists items are separated by coma operator and enclosed in square brackets.\n",
    "* example:- \n",
    "*list1 = [1,6,2,18,9]\n",
    "*list2 = [\"gitam\",10,12,15,5,\"hyderabad\"]"
   ]
  },
  {
   "cell_type": "code",
   "execution_count": 20,
   "metadata": {},
   "outputs": [
    {
     "name": "stdout",
     "output_type": "stream",
     "text": [
      "[1, 8, 16, 9, 2]\n",
      "1\n",
      "8\n",
      "2\n",
      "9\n",
      "[8, 16, 9, 2]\n",
      "[8, 16, 9]\n"
     ]
    }
   ],
   "source": [
    "lst = [1,8,16,9,2]\n",
    "print(lst)\n",
    "print(lst[0])\n",
    "print(lst[1])\n",
    "print(lst[-1])\n",
    "print(lst[-2])\n",
    "print(lst[1:])\n",
    "print(lst[1:4])"
   ]
  },
  {
   "cell_type": "code",
   "execution_count": 2,
   "metadata": {},
   "outputs": [
    {
     "name": "stdout",
     "output_type": "stream",
     "text": [
      "['gitam', 'python', 1989, 2002]\n",
      "['gitam', 'python', 2019, 2002]\n"
     ]
    }
   ],
   "source": [
    "li = [\"gitam\",\"python\",1989,2002]\n",
    "print(li)\n",
    "li[2] = 2019\n",
    "print(li)"
   ]
  },
  {
   "cell_type": "code",
   "execution_count": 3,
   "metadata": {},
   "outputs": [
    {
     "name": "stdout",
     "output_type": "stream",
     "text": [
      "['gitam', 'python', 2019, 2002]\n",
      "['gitam', 'python', 2002]\n"
     ]
    }
   ],
   "source": [
    "# delete the specific item in the list\n",
    "print(li)\n",
    "del li[2]\n",
    "print(li)"
   ]
  },
  {
   "cell_type": "code",
   "execution_count": 11,
   "metadata": {},
   "outputs": [
    {
     "name": "stdout",
     "output_type": "stream",
     "text": [
      "5\n",
      "[1, 9, 6, 18, 2, 1, 9, 6, 18, 2]\n",
      "True\n",
      "False\n",
      "1 9 6 18 2 "
     ]
    }
   ],
   "source": [
    "# Basic list operations\n",
    "lst1 = [1,9,6,18,2]\n",
    "print(len(lst1)) \n",
    "print(lst1 * 2)\n",
    "print(9 in lst)\n",
    "print(5 in lst)\n",
    "# access the list items using iteration\n",
    "for x in range(len(lst1)):\n",
    "    print(lst1[x],end=' ')"
   ]
  },
  {
   "cell_type": "code",
   "execution_count": 17,
   "metadata": {},
   "outputs": [
    {
     "name": "stdout",
     "output_type": "stream",
     "text": [
      "1\n",
      "18\n",
      "36\n",
      "7\n",
      "13.5\n"
     ]
    }
   ],
   "source": [
    "# Function of the list\n",
    "lst1\n",
    "print(min(lst1))\n",
    "print(max(lst1))\n",
    "print(sum(lst1))\n",
    "print(sum(lst1)//len(lst1))\n",
    "print(sum(lst1[1::2])/len(lst1[1::2])) "
   ]
  },
  {
   "cell_type": "code",
   "execution_count": 18,
   "metadata": {},
   "outputs": [
    {
     "data": {
      "text/plain": [
       "[9, 18]"
      ]
     },
     "execution_count": 18,
     "metadata": {},
     "output_type": "execute_result"
    }
   ],
   "source": [
    "(lst1[1::2])"
   ]
  },
  {
   "cell_type": "code",
   "execution_count": 44,
   "metadata": {},
   "outputs": [
    {
     "data": {
      "text/plain": [
       "[45,\n",
       " 23,\n",
       " 123,\n",
       " 56,\n",
       " 56,\n",
       " 56,\n",
       " 56,\n",
       " 56,\n",
       " 56,\n",
       " 56,\n",
       " 56,\n",
       " 56,\n",
       " 56,\n",
       " 56,\n",
       " 56,\n",
       " 56,\n",
       " 56,\n",
       " 56,\n",
       " 56,\n",
       " 45,\n",
       " 45,\n",
       " 24,\n",
       " 24,\n",
       " 24,\n",
       " 24,\n",
       " 24,\n",
       " 24,\n",
       " 24,\n",
       " 24,\n",
       " 24,\n",
       " 24,\n",
       " 24,\n",
       " 24,\n",
       " 24,\n",
       " 24,\n",
       " 24,\n",
       " 24,\n",
       " 23,\n",
       " 23,\n",
       " 18,\n",
       " 9,\n",
       " 6,\n",
       " 1]"
      ]
     },
     "execution_count": 44,
     "metadata": {},
     "output_type": "execute_result"
    }
   ],
   "source": [
    "lst1\n",
    "lst1.append(24) # addding a new element at the end of the list\n",
    "lst1\n",
    "lst1.insert(2,56) # adding an elements at particular index\n",
    "lst1\n",
    "lst1.count(18) # return the value how many times the object repeated\n",
    "lst1.index(56)\n",
    "lst1.sort() # it sort the list in ascending order\n",
    "lst1\n",
    "lst1.pop() # remove the last element from the list\n",
    "lst1\n",
    "lst1.pop(1) # remove an element from a particular index\n",
    "lst2 = [123,23,45]\n",
    "lst1.extend(lst2) # merge the list2 into list1\n",
    "lst1.reverse()\n",
    "lst1.remove(123)\n",
    "lst1\n"
   ]
  },
  {
   "cell_type": "code",
   "execution_count": 34,
   "metadata": {},
   "outputs": [
    {
     "name": "stdout",
     "output_type": "stream",
     "text": [
      "[3, 2, 9]\n"
     ]
    }
   ],
   "source": [
    "li = [1,9,8,2,6,3]\n",
    "print(li[-1::-2])"
   ]
  },
  {
   "cell_type": "code",
   "execution_count": 42,
   "metadata": {},
   "outputs": [
    {
     "data": {
      "text/plain": [
       "[1,\n",
       " 2,\n",
       " 6,\n",
       " 9,\n",
       " 18,\n",
       " 23,\n",
       " 23,\n",
       " 24,\n",
       " 24,\n",
       " 24,\n",
       " 24,\n",
       " 24,\n",
       " 24,\n",
       " 24,\n",
       " 24,\n",
       " 24,\n",
       " 24,\n",
       " 24,\n",
       " 24,\n",
       " 24,\n",
       " 24,\n",
       " 45,\n",
       " 45,\n",
       " 56,\n",
       " 56,\n",
       " 56,\n",
       " 56,\n",
       " 56,\n",
       " 56,\n",
       " 56,\n",
       " 56,\n",
       " 56,\n",
       " 56,\n",
       " 56,\n",
       " 56,\n",
       " 56,\n",
       " 56,\n",
       " 123,\n",
       " 123]"
      ]
     },
     "execution_count": 42,
     "metadata": {},
     "output_type": "execute_result"
    }
   ],
   "source": [
    "lst1"
   ]
  },
  {
   "cell_type": "code",
   "execution_count": 47,
   "metadata": {},
   "outputs": [
    {
     "data": {
      "text/plain": [
       "6"
      ]
     },
     "execution_count": 47,
     "metadata": {},
     "output_type": "execute_result"
    }
   ],
   "source": [
    "# Function to find the second large item from the list\n",
    "# Input  : [1,19,6,2,8,18,3]\n",
    "# output : 18\n",
    "def secondLarge(li):\n",
    "    li.sort()\n",
    "    return li[-2]\n",
    "def genericlarge(li,n):\n",
    "    li.sort()\n",
    "    return li[-n]\n",
    "li = [1,19,6,2,8,18,3]\n",
    "genericlarge(li,4)    "
   ]
  },
  {
   "cell_type": "code",
   "execution_count": 50,
   "metadata": {},
   "outputs": [
    {
     "data": {
      "text/plain": [
       "6"
      ]
     },
     "execution_count": 50,
     "metadata": {},
     "output_type": "execute_result"
    }
   ],
   "source": [
    "# function to find the least item from the list\n",
    "def secondleast(li):\n",
    "    li.sort()\n",
    "    return li[1]\n",
    "def  genericleast(li,n):\n",
    "    li.sort()\n",
    "    return li[n-1]\n",
    "li = [1,19,6,2,8,18,3]\n",
    "genericleast(li,4)"
   ]
  },
  {
   "cell_type": "markdown",
   "metadata": {},
   "source": [
    "### linear search\n",
    " \n",
    " * linear search algorithm can be applied on duplicate and unique list\n",
    " * duplicate list:- the items of the list can be appeared more than once\n",
    " * linear search algorithm can be applied on sorted list or unsorted list"
   ]
  },
  {
   "cell_type": "code",
   "execution_count": 4,
   "metadata": {},
   "outputs": [
    {
     "data": {
      "text/plain": [
       "-1"
      ]
     },
     "execution_count": 4,
     "metadata": {},
     "output_type": "execute_result"
    }
   ],
   "source": [
    "# function to search the data in alist\n",
    "def linearsearch(li,taritem):\n",
    "    for x in range(len(li)):\n",
    "        if li[x] == taritem:\n",
    "            return x\n",
    "    return -1\n",
    "li =[1,19,6,2,8,18,3]\n",
    "linearsearch(li,225)"
   ]
  },
  {
   "cell_type": "code",
   "execution_count": 3,
   "metadata": {},
   "outputs": [
    {
     "name": "stdout",
     "output_type": "stream",
     "text": [
      "1 4 8 "
     ]
    }
   ],
   "source": [
    "# function to search a number in alist 2\n",
    "def linearsearch2(li,taritem):\n",
    "    for x in range(len(li)):\n",
    "        if li[x] == taritem:\n",
    "            print(x,end=\" \")\n",
    "    return\n",
    "li = [1,5,9,6,5,15,1,2,5]\n",
    "linearsearch2(li,5)"
   ]
  },
  {
   "cell_type": "code",
   "execution_count": 14,
   "metadata": {},
   "outputs": [
    {
     "name": "stdout",
     "output_type": "stream",
     "text": [
      "!!1 !!!!!4 !!!!!!!!!8 "
     ]
    }
   ],
   "source": [
    "# function to print the given character\n",
    "# input : list\n",
    "# output : seq of characters\n",
    "# test case\n",
    "# [1,5,9,6,5,15,1,2,5],tar=5 \n",
    "def linearsearch3(li,taritem):\n",
    "    for x in range(len(li)):\n",
    "        if li[x] == taritem:\n",
    "            j = 0\n",
    "            while j != x + 1:\n",
    "                print(\"!\",end=\"\")\n",
    "                j = j + 1\n",
    "            print(x,end=\" \")\n",
    "    return\n",
    "li = [1,5,9,6,5,15,1,2,5]\n",
    "linearsearch3(li,5) # !!!!! !!!!!!!!!"
   ]
  },
  {
   "cell_type": "code",
   "execution_count": 19,
   "metadata": {},
   "outputs": [
    {
     "data": {
      "text/plain": [
       "60"
      ]
     },
     "execution_count": 19,
     "metadata": {},
     "output_type": "execute_result"
    }
   ],
   "source": [
    "# function to search a list 4\n",
    "def linearserach4(li):\n",
    "        sum = 0\n",
    "        for x in range(len(li)):\n",
    "            if li[x] % 3 ==0 and li[x] % 5 ==0:\n",
    "                sum +=li[x] \n",
    "        return sum\n",
    "li = [12,2,45,9,18,15,36]\n",
    "linearserach4(li) #60"
   ]
  },
  {
   "cell_type": "markdown",
   "metadata": {},
   "source": [
    "# 1.print first and last as it is beccause first number does not have previous and last does not have next number.\n"
   ]
  },
  {
   "cell_type": "markdown",
   "metadata": {},
   "source": [
    "# 2. need to multiply the previous and next number.                               "
   ]
  },
  {
   "cell_type": "code",
   "execution_count": 2,
   "metadata": {},
   "outputs": [
    {
     "name": "stdout",
     "output_type": "stream",
     "text": [
      "1 3 8 15 5 "
     ]
    }
   ],
   "source": [
    "# function to search the integer list 5\n",
    "def linearsearch5(li):\n",
    "    for x in range(len(li)):\n",
    "        if x == 0 or x == len(li) -1:\n",
    "            print(li[x],end=\" \")\n",
    "        else:\n",
    "            print(li[x-1]*li[x+1],end=\" \")\n",
    "    return \n",
    "li = [1,2,3,4,5]    \n",
    "linearsearch5(li)"
   ]
  },
  {
   "cell_type": "code",
   "execution_count": 6,
   "metadata": {},
   "outputs": [
    {
     "name": "stdout",
     "output_type": "stream",
     "text": [
      "1 9 19 22 "
     ]
    }
   ],
   "source": [
    "# function to search the integer of search list 6\n",
    "def linearsearch6(li):\n",
    "    for x in range(len(li)):\n",
    "        if x == 0 or x == len(li) -1:\n",
    "            print(li[x],end=\" \")\n",
    "        elif li[x-1] % 2 == 0  and li[x+1] % 2 == 0:\n",
    "            print(li[x],end=\" \")\n",
    "    return \n",
    "li = [1,6,9,4,16,19,22]\n",
    "linearsearch6(li) # 1 9 19 22"
   ]
  },
  {
   "cell_type": "markdown",
   "metadata": {},
   "source": [
    "# number to list\n",
    "* input as number\n",
    "* expected output will be listed"
   ]
  },
  {
   "cell_type": "code",
   "execution_count": 8,
   "metadata": {},
   "outputs": [
    {
     "data": {
      "text/plain": [
       "[1, 4, 5, 6, 9]"
      ]
     },
     "execution_count": 8,
     "metadata": {},
     "output_type": "execute_result"
    }
   ],
   "source": [
    "# function for converstion - number to list\n",
    "# input : number\n",
    "# output : list \n",
    "def numberlistconversion(n):\n",
    "    li = []\n",
    "    while n != 0:\n",
    "        r = n % 10\n",
    "        li.append(r)\n",
    "        n = n // 10\n",
    "    li.reverse()\n",
    "    return li\n",
    "numberlistconversion(14569) # [1,4,5,6,9]\n",
    "    \n",
    "   \n",
    "         "
   ]
  },
  {
   "cell_type": "code",
   "execution_count": 13,
   "metadata": {},
   "outputs": [
    {
     "data": {
      "text/plain": [
       "1"
      ]
     },
     "execution_count": 13,
     "metadata": {},
     "output_type": "execute_result"
    }
   ],
   "source": [
    "# function to count the occurances of a character in astring\n",
    "def countcharoccurances(s,c):\n",
    "    cnt = 0\n",
    "    for ch in s:\n",
    "        if ch == c:\n",
    "            cnt += 1\n",
    "    return cnt\n",
    "def countcharoccurancess1(s,c):\n",
    "    return s.count(c)\n",
    "countcharoccurances(\"python programming \",'a')"
   ]
  },
  {
   "cell_type": "markdown",
   "metadata": {},
   "source": [
    "# string to list conversion\n",
    "\n",
    "* input will be string\n",
    "* expected output will be list"
   ]
  },
  {
   "cell_type": "code",
   "execution_count": 15,
   "metadata": {},
   "outputs": [
    {
     "data": {
      "text/plain": [
       "[1, 2, 3, 4, 5, 6]"
      ]
     },
     "execution_count": 15,
     "metadata": {},
     "output_type": "execute_result"
    }
   ],
   "source": [
    "# function to convert the string to list\n",
    "def stringtolistconversions(s):\n",
    "    li = s.split()\n",
    "    numberlist = []\n",
    "    for i in li:\n",
    "        numberlist.append(int(i))\n",
    "    return numberlist                                                                  \n",
    "s = \"1 2 3 4 5 6\"\n",
    "stringtolistconversions(s) # [1,2,3,4,5,6 ]"
   ]
  },
  {
   "cell_type": "markdown",
   "metadata": {},
   "source": [
    "# sorting algorithms:\n",
    " \n",
    "* all the sorting algorithms makes the list into ascending order\n",
    "   * bubble sort\n",
    "   * selection sort\n",
    "   * insertion sort"
   ]
  },
  {
   "cell_type": "markdown",
   "metadata": {},
   "source": [
    "### bubble sort:-\n",
    "\n",
    "  * this algorithm compares the adj elements, if the first element is greater.\n",
    "  * than second element "
   ]
  },
  {
   "cell_type": "code",
   "execution_count": 17,
   "metadata": {},
   "outputs": [
    {
     "data": {
      "text/plain": [
       "[1, 3, 6, 18, 19, 25]"
      ]
     },
     "execution_count": 17,
     "metadata": {},
     "output_type": "execute_result"
    }
   ],
   "source": [
    "# function to perform bubble sort\n",
    "def bubblesort(li):\n",
    "    for i in range (len(li)-1):\n",
    "        for j in range(len(li)-1):\n",
    "            if li[j] > li [j+1]:\n",
    "                li[j],li[j+1] = li [j+1],li[j]\n",
    "    return li\n",
    "li = [19,1,25,6,18,3]\n",
    "bubblesort(li)"
   ]
  },
  {
   "cell_type": "code",
   "execution_count": null,
   "metadata": {},
   "outputs": [],
   "source": []
  },
  {
   "cell_type": "code",
   "execution_count": null,
   "metadata": {},
   "outputs": [],
   "source": []
  }
 ],
 "metadata": {
  "kernelspec": {
   "display_name": "Python 3",
   "language": "python",
   "name": "python3"
  },
  "language_info": {
   "codemirror_mode": {
    "name": "ipython",
    "version": 3
   },
   "file_extension": ".py",
   "mimetype": "text/x-python",
   "name": "python",
   "nbconvert_exporter": "python",
   "pygments_lexer": "ipython3",
   "version": "3.7.3"
  }
 },
 "nbformat": 4,
 "nbformat_minor": 2
}

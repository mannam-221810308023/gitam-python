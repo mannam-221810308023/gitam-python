{
 "cells": [
  {
   "cell_type": "markdown",
   "metadata": {},
   "source": [
    "### standard Libraries\n",
    "- File I/O\n",
    "- regular expressions \n",
    "- datetime\n",
    "- math(numerical and mathematical)"
   ]
  },
  {
   "cell_type": "markdown",
   "metadata": {},
   "source": [
    "# file handling in python\n",
    "\n",
    "- file:- document containing information resides on the permanent storage.\n",
    "- different types of files:-txt,doc,pdf,csv,and etc..\n",
    "- input -- keyboard\n",
    "- output -- file \n",
    "\n",
    "### modes of the file I/O\n",
    "- 'w' -- this mode is used to file writing\n",
    "      -- if the file is not present first it creates the file and writes some data to it.\n",
    "      -- if the filwe is already present then it will rewrite the previous content"
   ]
  },
  {
   "cell_type": "code",
   "execution_count": 1,
   "metadata": {},
   "outputs": [
    {
     "name": "stdout",
     "output_type": "stream",
     "text": [
      "file is created and data has wriiten\n"
     ]
    }
   ],
   "source": [
    "# function to create a file and write data to the file\n",
    "def createfile(filename):\n",
    "    f = open(filename,'w')\n",
    "    for i in range (10):\n",
    "        f.write('this is %d line' % i)\n",
    "    print(\"file is created and data has wriiten\")\n",
    "    return\n",
    "createfile('file1.txt')"
   ]
  },
  {
   "cell_type": "code",
   "execution_count": 2,
   "metadata": {},
   "outputs": [
    {
     "name": "stdout",
     "output_type": "stream",
     "text": [
      " Volume in drive C has no label.\n",
      " Volume Serial Number is 8CF4-D178\n",
      "\n",
      " Directory of C:\\Users\\STUDENT\n",
      "\n",
      "07/11/2019  09:37 AM    <DIR>          .\n",
      "07/11/2019  09:37 AM    <DIR>          ..\n",
      "06/21/2019  12:16 PM    <DIR>          .anaconda\n",
      "06/25/2019  04:43 PM             1,315 .bash_history\n",
      "07/08/2019  09:15 AM    <DIR>          .conda\n",
      "07/08/2019  09:15 AM                43 .condarc\n",
      "06/29/2019  10:20 AM    <DIR>          .idlerc\n",
      "07/11/2019  09:11 AM    <DIR>          .ipynb_checkpoints\n",
      "06/21/2019  12:49 PM    <DIR>          .ipython\n",
      "06/24/2019  02:21 PM    <DIR>          .jupyter\n",
      "06/28/2019  04:00 PM    <DIR>          .matplotlib\n",
      "06/25/2019  10:13 AM            15,145 24-6-2019.ipynb\n",
      "06/25/2019  04:25 PM            14,474 25-6-2019.ipynb\n",
      "06/26/2019  05:19 PM            25,917 26-6-2019.ipynb\n",
      "06/28/2019  09:34 AM            14,325 27-6-2019.ipynb\n",
      "06/28/2019  04:00 PM            36,051 28-6-2019.ipynb\n",
      "06/29/2019  10:47 AM             3,827 29-6-2019.ipynb\n",
      "06/21/2019  12:10 PM    <DIR>          Anaconda3\n",
      "07/09/2019  05:18 PM             1,966 assignment day 8.ipynb\n",
      "06/18/2019  09:33 AM    <DIR>          Contacts\n",
      "07/08/2019  04:41 PM    <DIR>          Desktop\n",
      "07/06/2019  09:23 AM    <DIR>          Documents\n",
      "07/08/2019  04:41 PM    <DIR>          Downloads\n",
      "06/18/2019  09:33 AM    <DIR>          Favorites\n",
      "07/11/2019  09:38 AM               140 file1.txt\n",
      "06/28/2019  09:01 AM                 0 filetest1.txt\n",
      "06/28/2019  02:47 PM    <DIR>          Links\n",
      "06/18/2019  09:33 AM    <DIR>          Music\n",
      "06/22/2019  09:15 AM    <DIR>          New\n",
      "06/18/2019  09:33 AM    <DIR>          Pictures\n",
      "07/09/2019  05:06 PM            16,194 python  july 9 .ipynb\n",
      "07/09/2019  05:06 PM            16,194 python  july 9 -Copy1.ipynb\n",
      "07/10/2019  05:07 PM            27,426 python july 10.ipynb\n",
      "07/11/2019  09:37 AM             1,838 python july 11.ipynb\n",
      "07/08/2019  03:58 PM            11,793 python july 8.ipynb\n",
      "07/06/2019  12:13 PM             6,788 python july.ipynb\n",
      "07/08/2019  04:43 PM             6,788 python july-Copy1.ipynb\n",
      "06/18/2019  09:33 AM    <DIR>          Saved Games\n",
      "06/18/2019  09:33 AM    <DIR>          Searches\n",
      "07/08/2019  09:17 AM                72 Untitled.ipynb\n",
      "07/09/2019  09:16 AM                72 Untitled1.ipynb\n",
      "06/18/2019  09:33 AM    <DIR>          Videos\n",
      "              20 File(s)        200,368 bytes\n",
      "              22 Dir(s)  61,873,442,816 bytes free\n"
     ]
    }
   ],
   "source": [
    "ls\n"
   ]
  },
  {
   "cell_type": "code",
   "execution_count": 7,
   "metadata": {},
   "outputs": [
    {
     "name": "stdout",
     "output_type": "stream",
     "text": [
      "file is created and data has written\n"
     ]
    }
   ],
   "source": [
    "def createfile(filename):\n",
    "    f = open(filename,'w')\n",
    "    f.write('testing...\\n')\n",
    "    print(\"file is created and data has written\")\n",
    "    return\n",
    "createfile('file1.txt')"
   ]
  },
  {
   "cell_type": "code",
   "execution_count": 9,
   "metadata": {},
   "outputs": [
    {
     "name": "stdout",
     "output_type": "stream",
     "text": [
      "file created and successfully data written\n"
     ]
    }
   ],
   "source": [
    "def appenddata(filename):\n",
    "    f = open(filename,'a')\n",
    "    for i in range (10):\n",
    "        f.write (\"this is %d line\\n\" % i)\n",
    "        print(\"file created and successfully data written\")\n",
    "        return\n",
    "appenddata('file2.txt')    "
   ]
  },
  {
   "cell_type": "code",
   "execution_count": 21,
   "metadata": {},
   "outputs": [
    {
     "name": "stdout",
     "output_type": "stream",
     "text": [
      "file created and successfully data written\n"
     ]
    }
   ],
   "source": [
    "def appenddata(filename):\n",
    "    f = open(filename,'a')\n",
    "    f.write(\"new line 1\\n\")\n",
    "    f.write(\"new line 2\\n\")\n",
    "    print(\"file created and successfully data written\")\n",
    "    f.close()\n",
    "    return\n",
    "appenddata('file2.txt')    "
   ]
  },
  {
   "cell_type": "code",
   "execution_count": 22,
   "metadata": {},
   "outputs": [
    {
     "name": "stdout",
     "output_type": "stream",
     "text": [
      "this is 0 line\n",
      "new line 1\n",
      "new line 2\n",
      "new line 1\n",
      "new line 2\n",
      "new line 1\n",
      "new line 2\n",
      "\n"
     ]
    }
   ],
   "source": [
    "# function to read of the file\n",
    "def readfiledata(filename):\n",
    "    f = open(filename,'r')\n",
    "    if f.mode == 'r':\n",
    "        x = f.read()\n",
    "        print(x)\n",
    "    f.close()\n",
    "    return \n",
    "readfiledata('file2.txt')"
   ]
  },
  {
   "cell_type": "code",
   "execution_count": 25,
   "metadata": {},
   "outputs": [
    {
     "name": "stdout",
     "output_type": "stream",
     "text": [
      "enter the filenamepython july\n",
      "enter the mode of the filer\n",
      "data to the file\n"
     ]
    }
   ],
   "source": [
    "# function to read the file\n",
    "def fileoperations(filename,mode):\n",
    "    with open(filename,mode) as f:\n",
    "        if f.mode == 'r':\n",
    "            data = f.read()\n",
    "            print(data)\n",
    "        elif f.mode == 'a':\n",
    "            f.write('data to the file')\n",
    "            print('the data successfully written')\n",
    "    f.close()\n",
    "    return\n",
    "filename = input('enter the filename')\n",
    "mode = input('enter the mode of the file')\n",
    "fileoperations(filename,mode)"
   ]
  },
  {
   "cell_type": "code",
   "execution_count": 2,
   "metadata": {},
   "outputs": [
    {
     "name": "stdout",
     "output_type": "stream",
     "text": [
      "enter the file name : file2.txt\n",
      "enter the word : this\n"
     ]
    },
    {
     "data": {
      "text/plain": [
       "1"
      ]
     },
     "execution_count": 2,
     "metadata": {},
     "output_type": "execute_result"
    }
   ],
   "source": [
    "# data analaysis \n",
    "# word count program\n",
    "def wordcount(filename,word):\n",
    "    with open (filename,'r') as f:\n",
    "        if f.mode == 'r':\n",
    "            x = f.read()\n",
    "            li = x.split() # it's splits the strong with whitespace\n",
    "    cnt = li.count(word)\n",
    "    return cnt \n",
    "    \n",
    "filename = input ('enter the file name : ')\n",
    "word = input ('enter the word : ') # which word count you need \n",
    "wordcount(filename,word)\n"
   ]
  },
  {
   "cell_type": "code",
   "execution_count": 4,
   "metadata": {},
   "outputs": [
    {
     "name": "stdout",
     "output_type": "stream",
     "text": [
      "enter the filename :file2.txt\n"
     ]
    },
    {
     "data": {
      "text/plain": [
       "81"
      ]
     },
     "execution_count": 4,
     "metadata": {},
     "output_type": "execute_result"
    }
   ],
   "source": [
    "# character count from the given file\n",
    "def charactercount(filename):\n",
    "    with open (filename,'r') as f:\n",
    "        if f.mode == 'r':\n",
    "            x = f.read()\n",
    "            li = list(x) # convert the string-char\n",
    "            return len(li)\n",
    "filename = input('enter the filename :')\n",
    "charactercount(filename)"
   ]
  },
  {
   "cell_type": "code",
   "execution_count": 6,
   "metadata": {},
   "outputs": [
    {
     "name": "stdout",
     "output_type": "stream",
     "text": [
      "['python progr', 'mming']\n"
     ]
    }
   ],
   "source": [
    "s1 = \"python programming\"\n",
    "print(s1.split('a'))\n"
   ]
  },
  {
   "cell_type": "code",
   "execution_count": 1,
   "metadata": {},
   "outputs": [
    {
     "name": "stdout",
     "output_type": "stream",
     "text": [
      "enter the filename : file2.txt\n"
     ]
    },
    {
     "data": {
      "text/plain": [
       "8"
      ]
     },
     "execution_count": 1,
     "metadata": {},
     "output_type": "execute_result"
    }
   ],
   "source": [
    "# function to find the no of lines in the input file\n",
    "# input -- filename(file2.txt)\n",
    "# output -- no of lines(3)\n",
    "def countoflines(filename):\n",
    "    with open (filename,'r') as f:\n",
    "        if f.mode == 'r':\n",
    "            x = f.read()\n",
    "            li = x.split(\"\\n\")\n",
    "    return len(li)\n",
    "filename = input('enter the filename : ')\n",
    "countoflines(filename)\n",
    "\n"
   ]
  },
  {
   "cell_type": "code",
   "execution_count": 2,
   "metadata": {},
   "outputs": [
    {
     "name": "stdout",
     "output_type": "stream",
     "text": [
      " enter the filename : file2.txt\n"
     ]
    },
    {
     "data": {
      "text/plain": [
       "'upper case = 0 , lower case = 52'"
      ]
     },
     "execution_count": 2,
     "metadata": {},
     "output_type": "execute_result"
    }
   ],
   "source": [
    "# function to print the upper and lower characters\n",
    "def casecount(filename):\n",
    "    cntupper = 0\n",
    "    cntlower = 0\n",
    "    with open(filename,'r') as f:\n",
    "        if f.mode == 'r':\n",
    "            x = f.read()\n",
    "            li = list(x)\n",
    "    for i in li:\n",
    "        if i.isupper():\n",
    "            cntupper += 1 # cntupper = cntupper + 1\n",
    "        elif i.islower():\n",
    "            cntlower +=1 # cntlower = cntlower + 1\n",
    "    output = 'upper case = {0} , lower case = {1}'.format(cntupper,cntlower)\n",
    "    return output\n",
    "filename = input (' enter the filename : ')\n",
    "casecount(filename)\n",
    "                            "
   ]
  },
  {
   "cell_type": "markdown",
   "metadata": {},
   "source": [
    "# math,random,os\n",
    "- os package it contains the certain methods which works with os"
   ]
  },
  {
   "cell_type": "code",
   "execution_count": 4,
   "metadata": {},
   "outputs": [
    {
     "name": "stdout",
     "output_type": "stream",
     "text": [
      " Volume in drive C has no label.\n",
      " Volume Serial Number is 8CF4-D178\n",
      "\n",
      " Directory of C:\\Users\\STUDENT\n",
      "\n",
      "07/11/2019  12:37 PM    <DIR>          .\n",
      "07/11/2019  12:37 PM    <DIR>          ..\n",
      "06/21/2019  12:16 PM    <DIR>          .anaconda\n",
      "06/25/2019  04:43 PM             1,315 .bash_history\n",
      "07/08/2019  09:15 AM    <DIR>          .conda\n",
      "07/08/2019  09:15 AM                43 .condarc\n",
      "06/29/2019  10:20 AM    <DIR>          .idlerc\n",
      "07/11/2019  09:11 AM    <DIR>          .ipynb_checkpoints\n",
      "06/21/2019  12:49 PM    <DIR>          .ipython\n",
      "06/24/2019  02:21 PM    <DIR>          .jupyter\n",
      "06/28/2019  04:00 PM    <DIR>          .matplotlib\n",
      "06/25/2019  10:13 AM            15,145 24-6-2019.ipynb\n",
      "06/25/2019  04:25 PM            14,474 25-6-2019.ipynb\n",
      "06/26/2019  05:19 PM            25,917 26-6-2019.ipynb\n",
      "06/28/2019  09:34 AM            14,325 27-6-2019.ipynb\n",
      "06/28/2019  04:00 PM            36,051 28-6-2019.ipynb\n",
      "06/29/2019  10:47 AM             3,827 29-6-2019.ipynb\n",
      "06/21/2019  12:10 PM    <DIR>          Anaconda3\n",
      "07/09/2019  05:18 PM             1,966 assignment day 8.ipynb\n",
      "06/18/2019  09:33 AM    <DIR>          Contacts\n",
      "07/08/2019  04:41 PM    <DIR>          Desktop\n",
      "07/06/2019  09:23 AM    <DIR>          Documents\n",
      "07/08/2019  04:41 PM    <DIR>          Downloads\n",
      "06/18/2019  09:33 AM    <DIR>          Favorites\n",
      "07/11/2019  10:00 AM                12 file1.txt\n",
      "07/11/2019  10:21 AM                88 file2.txt\n",
      "06/28/2019  09:01 AM                 0 filetest1.txt\n",
      "06/28/2019  02:47 PM    <DIR>          Links\n",
      "06/18/2019  09:33 AM    <DIR>          Music\n",
      "06/22/2019  09:15 AM    <DIR>          New\n",
      "06/18/2019  09:33 AM    <DIR>          Pictures\n",
      "07/09/2019  05:06 PM            16,194 python  july 9 .ipynb\n",
      "07/09/2019  05:06 PM            16,194 python  july 9 -Copy1.ipynb\n",
      "07/11/2019  10:28 AM                16 python july\n",
      "07/10/2019  05:07 PM            27,426 python july 10.ipynb\n",
      "07/11/2019  12:37 PM            12,576 python july 11.ipynb\n",
      "07/08/2019  03:58 PM            11,793 python july 8.ipynb\n",
      "07/06/2019  12:13 PM             6,788 python july.ipynb\n",
      "07/08/2019  04:43 PM             6,788 python july-Copy1.ipynb\n",
      "06/18/2019  09:33 AM    <DIR>          Saved Games\n",
      "06/18/2019  09:33 AM    <DIR>          Searches\n",
      "07/08/2019  09:17 AM                72 Untitled.ipynb\n",
      "07/09/2019  09:16 AM                72 Untitled1.ipynb\n",
      "06/18/2019  09:33 AM    <DIR>          Videos\n",
      "              22 File(s)        211,082 bytes\n",
      "              22 Dir(s)  61,149,614,080 bytes free\n"
     ]
    }
   ],
   "source": [
    "ls"
   ]
  },
  {
   "cell_type": "code",
   "execution_count": 16,
   "metadata": {},
   "outputs": [
    {
     "name": "stdout",
     "output_type": "stream",
     "text": [
      "[WinError 3] The system cannot find the path specified: 'Desktop/PythonProg/satya-221810308050'\n",
      "C:\\Users\n"
     ]
    }
   ],
   "source": [
    "cd Desktop/PythonProg/satya-221810308050"
   ]
  },
  {
   "cell_type": "code",
   "execution_count": 9,
   "metadata": {},
   "outputs": [
    {
     "name": "stdout",
     "output_type": "stream",
     "text": [
      "C:\\Users\n"
     ]
    }
   ],
   "source": [
    "cd ..\n"
   ]
  },
  {
   "cell_type": "code",
   "execution_count": 11,
   "metadata": {},
   "outputs": [
    {
     "name": "stdout",
     "output_type": "stream",
     "text": [
      " Volume in drive C has no label.\n",
      " Volume Serial Number is 8CF4-D178\n",
      "\n",
      " Directory of C:\\Users\n",
      "\n",
      "06/18/2019  09:32 AM    <DIR>          .\n",
      "06/18/2019  09:32 AM    <DIR>          ..\n",
      "04/29/2009  02:09 PM    <DIR>          124\n",
      "05/07/2019  05:57 PM    <DIR>          182\n",
      "11/21/2018  09:47 AM    <DIR>          exam\n",
      "04/29/2009  02:09 PM    <DIR>          Guest\n",
      "04/12/2011  07:54 AM    <DIR>          Public\n",
      "07/11/2019  12:46 PM    <DIR>          STUDENT\n",
      "               0 File(s)              0 bytes\n",
      "               8 Dir(s)  61,148,295,168 bytes free\n"
     ]
    }
   ],
   "source": [
    "ls\n"
   ]
  },
  {
   "cell_type": "code",
   "execution_count": 15,
   "metadata": {},
   "outputs": [
    {
     "ename": "AttributeError",
     "evalue": "module 'os' has no attribute 'dir'",
     "output_type": "error",
     "traceback": [
      "\u001b[1;31m---------------------------------------------------------------------------\u001b[0m",
      "\u001b[1;31mAttributeError\u001b[0m                            Traceback (most recent call last)",
      "\u001b[1;32m<ipython-input-15-dc498230e0d0>\u001b[0m in \u001b[0;36m<module>\u001b[1;34m\u001b[0m\n\u001b[0;32m      1\u001b[0m \u001b[1;32mimport\u001b[0m \u001b[0mos\u001b[0m\u001b[1;33m\u001b[0m\u001b[1;33m\u001b[0m\u001b[0m\n\u001b[1;32m----> 2\u001b[1;33m \u001b[0mos\u001b[0m\u001b[1;33m.\u001b[0m\u001b[0mdir\u001b[0m\u001b[1;33m(\u001b[0m\u001b[1;34m'pyhton july 8\\n'\u001b[0m\u001b[1;33m)\u001b[0m \u001b[1;31m# listdir() -- ls\u001b[0m\u001b[1;33m\u001b[0m\u001b[1;33m\u001b[0m\u001b[0m\n\u001b[0m",
      "\u001b[1;31mAttributeError\u001b[0m: module 'os' has no attribute 'dir'"
     ]
    }
   ],
   "source": [
    "import os\n",
    "os.dir('sat\\n') # listdir() -- ls"
   ]
  },
  {
   "cell_type": "code",
   "execution_count": 14,
   "metadata": {},
   "outputs": [
    {
     "ename": "OSError",
     "evalue": "[WinError 123] The filename, directory name, or volume label syntax is incorrect: 'Git\\n'",
     "output_type": "error",
     "traceback": [
      "\u001b[1;31m---------------------------------------------------------------------------\u001b[0m",
      "\u001b[1;31mOSError\u001b[0m                                   Traceback (most recent call last)",
      "\u001b[1;32m<ipython-input-14-8543de2b805d>\u001b[0m in \u001b[0;36m<module>\u001b[1;34m\u001b[0m\n\u001b[1;32m----> 1\u001b[1;33m \u001b[0mli\u001b[0m \u001b[1;33m=\u001b[0m \u001b[0mos\u001b[0m\u001b[1;33m.\u001b[0m\u001b[0mlistdir\u001b[0m\u001b[1;33m(\u001b[0m\u001b[1;34m'Git\\n'\u001b[0m\u001b[1;33m)\u001b[0m\u001b[1;33m\u001b[0m\u001b[1;33m\u001b[0m\u001b[0m\n\u001b[0m\u001b[0;32m      2\u001b[0m \u001b[1;32mfor\u001b[0m \u001b[0mi\u001b[0m \u001b[1;32min\u001b[0m \u001b[0mli\u001b[0m\u001b[1;33m:\u001b[0m\u001b[1;33m\u001b[0m\u001b[1;33m\u001b[0m\u001b[0m\n\u001b[0;32m      3\u001b[0m     \u001b[0mprint\u001b[0m\u001b[1;33m(\u001b[0m\u001b[0mi\u001b[0m\u001b[1;33m)\u001b[0m\u001b[1;33m\u001b[0m\u001b[1;33m\u001b[0m\u001b[0m\n",
      "\u001b[1;31mOSError\u001b[0m: [WinError 123] The filename, directory name, or volume label syntax is incorrect: 'Git\\n'"
     ]
    }
   ],
   "source": [
    "li = os.listdir('Git\\n')\n",
    "for i in li:\n",
    "    print(i)"
   ]
  },
  {
   "cell_type": "markdown",
   "metadata": {},
   "source": [
    "\n",
    "- older version python -- os.listdir()\n",
    "- new version python --- os.scandir() and pathlib.path()"
   ]
  },
  {
   "cell_type": "code",
   "execution_count": null,
   "metadata": {},
   "outputs": [],
   "source": [
    "from pathlib import path\n",
    "li = path('Git\\n')"
   ]
  },
  {
   "cell_type": "markdown",
   "metadata": {},
   "source": [
    "# listing subdirectories\n",
    "# creating a single directory"
   ]
  },
  {
   "cell_type": "markdown",
   "metadata": {},
   "source": [
    "# creating multiple directories\n",
    "# delete files and directories\n",
    "# regular expressions\n",
    "* used to specific pattern matching\n",
    "* symbolic notation of pattern\n",
    "* patterns represent set of values"
   ]
  },
  {
   "cell_type": "code",
   "execution_count": null,
   "metadata": {},
   "outputs": [],
   "source": []
  },
  {
   "cell_type": "code",
   "execution_count": null,
   "metadata": {},
   "outputs": [],
   "source": []
  },
  {
   "cell_type": "code",
   "execution_count": null,
   "metadata": {},
   "outputs": [],
   "source": []
  }
 ],
 "metadata": {
  "kernelspec": {
   "display_name": "Python 3",
   "language": "python",
   "name": "python3"
  },
  "language_info": {
   "codemirror_mode": {
    "name": "ipython",
    "version": 3
   },
   "file_extension": ".py",
   "mimetype": "text/x-python",
   "name": "python",
   "nbconvert_exporter": "python",
   "pygments_lexer": "ipython3",
   "version": "3.7.3"
  }
 },
 "nbformat": 4,
 "nbformat_minor": 2
}

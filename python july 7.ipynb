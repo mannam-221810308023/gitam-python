{
 "cells": [
  {
   "cell_type": "code",
   "execution_count": 1,
   "metadata": {},
   "outputs": [
    {
     "name": "stdout",
     "output_type": "stream",
     "text": [
      "enter number 1  3\n",
      "enter number 2  4\n",
      "enter number 3  5\n",
      "5 is the large number  \n"
     ]
    }
   ],
   "source": [
    "# find the large number from the given 3 numbers\n",
    "a1 = int(input(\"enter number 1  \"))\n",
    "a2 = int(input(\"enter number 2  \"))\n",
    "a3 = int(input(\"enter number 3  \"))\n",
    "if a1>a2 and a1>a3:\n",
    "     print(a1,\"is the large nummber \")  \n",
    "elif a2>a1 and a2>a3:\n",
    "     print(a2,\"is the large number  \")\n",
    "elif a3>a1 and a3>a2:\n",
    "     print(a3,\"is the large number  \")"
   ]
  },
  {
   "cell_type": "code",
   "execution_count": 31,
   "metadata": {},
   "outputs": [
    {
     "name": "stdout",
     "output_type": "stream",
     "text": [
      "enter number  2013\n",
      "2013 is not a leap year\n"
     ]
    }
   ],
   "source": [
    "# check if a year is leap year or not\n",
    "n = int(input(\"enter number  \"))\n",
    "if n % 400 == 0 or (n % 4 == 0 and n % 100 != 0):\n",
    "    print(n,\"is a leap year\")\n",
    "else:\n",
    "    print(n, \"is not a leap year\")"
   ]
  },
  {
   "cell_type": "markdown",
   "metadata": {},
   "source": [
    "### iteration:\n",
    "\n",
    "* for\n",
    "* while \n",
    "boolean conditons:\n",
    "      .statments\n",
    "      .increment/decrement\n",
    "     "
   ]
  },
  {
   "cell_type": "code",
   "execution_count": 3,
   "metadata": {},
   "outputs": [
    {
     "name": "stdout",
     "output_type": "stream",
     "text": [
      "gitam\n",
      "gitam\n",
      "gitam\n",
      "gitam\n",
      "gitam\n"
     ]
    }
   ],
   "source": [
    "# need to print gitam for 5 times\n",
    "\n",
    "print(\"gitam\") \n",
    "print(\"gitam\")\n",
    "print(\"gitam\")\n",
    "print(\"gitam\")\n",
    "print(\"gitam\")"
   ]
  },
  {
   "cell_type": "code",
   "execution_count": 1,
   "metadata": {},
   "outputs": [
    {
     "name": "stdout",
     "output_type": "stream",
     "text": [
      "gitam\n",
      "gitam\n",
      "gitam\n",
      "gitam\n",
      "gitam\n"
     ]
    }
   ],
   "source": [
    "x = 0 \n",
    "while x<5:\n",
    "    print(\"gitam\")\n",
    "    x = x + 1"
   ]
  },
  {
   "cell_type": "code",
   "execution_count": null,
   "metadata": {},
   "outputs": [
    {
     "name": "stdout",
     "output_type": "stream",
     "text": [
      "enter the number5\n",
      "1 2 3 4 5 "
     ]
    }
   ],
   "source": [
    "# print N Natural numbers using while loop\n",
    "n = int(input (\"enter the number\"))\n",
    "i = 1\n",
    "while i<=n :\n",
    "    print(i,end = \" \")\n",
    "    i = i + 1"
   ]
  },
  {
   "cell_type": "code",
   "execution_count": 79,
   "metadata": {},
   "outputs": [
    {
     "name": "stdout",
     "output_type": "stream",
     "text": [
      "enter the number4\n",
      "6\n"
     ]
    }
   ],
   "source": [
    "# read a number --n \n",
    "n = int(input(\"enter the number\"))\n",
    "i = 2\n",
    "sum = 0\n",
    "while i <= n :\n",
    "     if n % 2 == 0:\n",
    "        sum = sum + i\n",
    "        i = i + 2\n",
    "print(sum)"
   ]
  },
  {
   "cell_type": "code",
   "execution_count": 54,
   "metadata": {},
   "outputs": [
    {
     "ename": "IndentationError",
     "evalue": "unindent does not match any outer indentation level (<tokenize>, line 7)",
     "output_type": "error",
     "traceback": [
      "\u001b[1;36m  File \u001b[1;32m\"<tokenize>\"\u001b[1;36m, line \u001b[1;32m7\u001b[0m\n\u001b[1;33m    print(r, end = \"  \" )\u001b[0m\n\u001b[1;37m    ^\u001b[0m\n\u001b[1;31mIndentationError\u001b[0m\u001b[1;31m:\u001b[0m unindent does not match any outer indentation level\n"
     ]
    }
   ],
   "source": [
    "# to print digits of given numbers in decreasing order\n",
    "\n",
    "n =  int(input(\"enter number\"))\n",
    "r = 0\n",
    "while n != 0:\n",
    "     r =  n % 10\n",
    "    print(r, end = \"  \" )\n",
    "    n = n // 10\n",
    "   \n"
   ]
  },
  {
   "cell_type": "markdown",
   "metadata": {},
   "source": [
    "# functional programming\n",
    "\n",
    "* simple\n",
    "* easy read\n",
    "* lengthy program divides into sub programs\n",
    "\n"
   ]
  },
  {
   "cell_type": "code",
   "execution_count": null,
   "metadata": {},
   "outputs": [],
   "source": [
    "def nameofthefunction(parameter)"
   ]
  },
  {
   "cell_type": "code",
   "execution_count": 73,
   "metadata": {},
   "outputs": [
    {
     "data": {
      "text/plain": [
       "6"
      ]
     },
     "execution_count": 73,
     "metadata": {},
     "output_type": "execute_result"
    }
   ],
   "source": [
    "# read a number -- 1234\n",
    "# putput -- 6(2+4)\n",
    "def addevendigits(n):\n",
    "    sum = 0\n",
    "    while n!= 0:\n",
    "        r = n % 10\n",
    "        if r % 2 == 0:\n",
    "            sum  = sum + r\n",
    "        n = n // 10\n",
    "    return sum\n",
    "addevendigits(1234)"
   ]
  },
  {
   "cell_type": "code",
   "execution_count": 74,
   "metadata": {},
   "outputs": [
    {
     "ename": "IndentationError",
     "evalue": "unexpected indent (<ipython-input-74-0333cd27f046>, line 3)",
     "output_type": "error",
     "traceback": [
      "\u001b[1;36m  File \u001b[1;32m\"<ipython-input-74-0333cd27f046>\"\u001b[1;36m, line \u001b[1;32m3\u001b[0m\n\u001b[1;33m    def printLarge(n):\u001b[0m\n\u001b[1;37m    ^\u001b[0m\n\u001b[1;31mIndentationError\u001b[0m\u001b[1;31m:\u001b[0m unexpected indent\n"
     ]
    }
   ],
   "source": [
    "# read a number -- 19528\n",
    "# print the Large digit print \n",
    " def printLarge(n):\n",
    "        return\n",
    "printLarge(19528)"
   ]
  },
  {
   "cell_type": "code",
   "execution_count": null,
   "metadata": {},
   "outputs": [],
   "source": [
    "# read a number input \n",
    "def reverseNumber(n):\n",
    "    rev = 0\n",
    "    while  n!= 0:\n",
    "        r = n % 10\n",
    "        rev = rev * 10 + r\n",
    "        n = n // 10\n",
    "    return rev\n",
    "reverseNumber(123)\n"
   ]
  },
  {
   "cell_type": "code",
   "execution_count": null,
   "metadata": {},
   "outputs": [],
   "source": []
  }
 ],
 "metadata": {
  "kernelspec": {
   "display_name": "Python 3",
   "language": "python",
   "name": "python3"
  },
  "language_info": {
   "codemirror_mode": {
    "name": "ipython",
    "version": 3
   },
   "file_extension": ".py",
   "mimetype": "text/x-python",
   "name": "python",
   "nbconvert_exporter": "python",
   "pygments_lexer": "ipython3",
   "version": "3.7.3"
  }
 },
 "nbformat": 4,
 "nbformat_minor": 2
}
